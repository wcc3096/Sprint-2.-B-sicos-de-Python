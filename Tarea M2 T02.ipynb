{
 "cells": [
  {
   "cell_type": "markdown",
   "id": "8f41f61a",
   "metadata": {},
   "source": [
    "- Ejercicio 1\n",
    "El ejercicio consiste en crear un programa que te clasifique una variable numérica en función de la escala Suspendido/Aprobado/Notable/Excelente.\n",
    "\n",
    "Recuerda que Suspendido < 5, Aprobado > 5 y < 7, Notable > 7 y < 9 y Excelente > 9."
   ]
  },
  {
   "cell_type": "code",
   "execution_count": 18,
   "id": "019cf0a4",
   "metadata": {},
   "outputs": [
    {
     "name": "stdout",
     "output_type": "stream",
     "text": [
      "Dime tu nota: 10\n",
      "Excelente\n"
     ]
    }
   ],
   "source": [
    "Nota = int(input(\"Dime tu nota: \"))\n",
    "\n",
    "if Nota <= 5:\n",
    "    print(\"Suspendido\")\n",
    "elif Nota <= 7:\n",
    "    print(\"Aprobado\")\n",
    "elif Nota < 9:\n",
    "    print(\"Notable\")\n",
    "else:\n",
    "    print(\"Excelente\")"
   ]
  },
  {
   "cell_type": "markdown",
   "id": "f0fb4eff",
   "metadata": {},
   "source": [
    "- Ejercicio 2\n",
    "Utilizando el siguiente tutorial, crea un programa que te pregunte dos números. Debe mostrarte un mensaje diciendo si el primero es mayor, el segundo es mayor o son iguales.\n",
    "\n",
    "-> Programiz: Python Input, Output and Import"
   ]
  },
  {
   "cell_type": "code",
   "execution_count": 17,
   "id": "cb5939f2",
   "metadata": {},
   "outputs": [
    {
     "name": "stdout",
     "output_type": "stream",
     "text": [
      "¿Cuál es el primer número?20\n",
      "¿Cuál es el segundo número?80\n",
      "El segundo número es mayor.\n"
     ]
    }
   ],
   "source": [
    "x = int(input(\"¿Cuál es el primer número?\")) \n",
    "y = int(input(\"¿Cuál es el segundo número?\"))\n",
    "if x>y:\n",
    "  print('El primer número es mayor.')\n",
    "elif x<y:\n",
    "  print('El segundo número es mayor.')\n",
    "else:\n",
    "  print('Son iguales.')"
   ]
  },
  {
   "cell_type": "markdown",
   "id": "32881519",
   "metadata": {},
   "source": [
    "- Ejercicio 3\n",
    "Crea un programa que te pregunte tu nombre y te pida un número. Si el número es 0, debería mostrar un mensaje de error. De lo contrario, debería mostrar el nombre repetido tantas veces como indique el número. Por ejemplo, \"Joan Joan Joan\"."
   ]
  },
  {
   "cell_type": "code",
   "execution_count": 40,
   "id": "e9e949c5",
   "metadata": {},
   "outputs": [
    {
     "name": "stdout",
     "output_type": "stream",
     "text": [
      "¿Cuál es tu nombre? Carlos\n",
      "Ingresa un número entero: 9\n",
      "Carlos\n",
      "Carlos\n",
      "Carlos\n",
      "Carlos\n",
      "Carlos\n",
      "Carlos\n",
      "Carlos\n",
      "Carlos\n",
      "Carlos\n",
      "\n"
     ]
    }
   ],
   "source": [
    "nombre=input('¿Cuál es tu nombre? ')\n",
    "numero=int(input('Ingresa un número entero: '))\n",
    "\n",
    "if numero == 0:\n",
    "    print(\"Error\")\n",
    "else:\n",
    "    print((nombre+\"\\n\")*numero)\n"
   ]
  },
  {
   "cell_type": "markdown",
   "id": "2c738943",
   "metadata": {},
   "source": [
    "- Ejercicio 4\n",
    "Crea un programa que dada una lista cualquiera, te diga si es simétrica o no. Si lo es, que te diga cuántos elementos tiene."
   ]
  },
  {
   "cell_type": "code",
   "execution_count": 174,
   "id": "bdb35505",
   "metadata": {},
   "outputs": [
    {
     "name": "stdout",
     "output_type": "stream",
     "text": [
      "Indica la lista 1,2,3,3,2,1\n",
      "La lista es simetrica y tiene 6 elementos\n"
     ]
    }
   ],
   "source": [
    "lista1=(input('Indica la lista ').split(','))\n",
    "list(lista1)\n",
    "if len(lista1) ==2:\n",
    "  print('La lista es simetrica y tiene' ,len(lista1),'elementos')\n",
    "elif lista1[::] == lista1[::-1]:\n",
    "  print('La lista es simetrica y tiene' ,len(lista1),'elementos')\n",
    "else:\n",
    "  print('No es simetrica.')"
   ]
  },
  {
   "cell_type": "markdown",
   "id": "64d8fe52",
   "metadata": {},
   "source": [
    "- Ejercicio 5\n",
    "Crea un programa que dada una lista, te diga cuántos números coinciden con su posición. Por ejemplo [3,4,2,0,2,3,6] el 2 y el 6 coinciden."
   ]
  },
  {
   "cell_type": "code",
   "execution_count": 219,
   "id": "41bb96ff",
   "metadata": {},
   "outputs": [
    {
     "name": "stdout",
     "output_type": "stream",
     "text": [
      "Coincide 0\n",
      "Coincide 1\n",
      "Coincide 3\n"
     ]
    }
   ],
   "source": [
    "Lista = [0,1,9,3,5,7,9,21]\n",
    "\n",
    "for x in range(0, len(Lista)):\n",
    "    if x == Lista[x]:\n",
    "        print (\"Coincide\", x)"
   ]
  }
 ],
 "metadata": {
  "kernelspec": {
   "display_name": "Python 3",
   "language": "python",
   "name": "python3"
  },
  "language_info": {
   "codemirror_mode": {
    "name": "ipython",
    "version": 3
   },
   "file_extension": ".py",
   "mimetype": "text/x-python",
   "name": "python",
   "nbconvert_exporter": "python",
   "pygments_lexer": "ipython3",
   "version": "3.8.8"
  }
 },
 "nbformat": 4,
 "nbformat_minor": 5
}
