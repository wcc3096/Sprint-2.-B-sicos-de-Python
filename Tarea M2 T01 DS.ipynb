{
 "cells": [
  {
   "cell_type": "markdown",
   "id": "67cce0ef",
   "metadata": {},
   "source": [
    "# Ejercicios de estructuras de datos con Python."
   ]
  },
  {
   "cell_type": "markdown",
   "id": "28ac2d36",
   "metadata": {},
   "source": [
    "- Ejercicio 1\n",
    "Crea una lista que agrupe los meses del año en trimestres (1T: enero, febrero y marzo; 2T: abril, mayo, junio...), es decir, una lista con 4 listas dentro."
   ]
  },
  {
   "cell_type": "code",
   "execution_count": 4,
   "id": "46b0d14d",
   "metadata": {},
   "outputs": [
    {
     "data": {
      "text/plain": [
       "[['Enero', 'Febrero', 'Marzo'],\n",
       " ['Abril', 'Mayo', 'Junio'],\n",
       " ['Julio', 'Agosto', 'Septiembre'],\n",
       " ['Octubre', 'Noviembre', 'Diciembre']]"
      ]
     },
     "execution_count": 4,
     "metadata": {},
     "output_type": "execute_result"
    }
   ],
   "source": [
    "Meses_Trim = [['Enero','Febrero', 'Marzo'],['Abril','Mayo','Junio'],['Julio','Agosto','Septiembre'],\n",
    "              ['Octubre','Noviembre','Diciembre']]\n",
    "Meses_Trim"
   ]
  },
  {
   "cell_type": "markdown",
   "id": "ab4b4ad5",
   "metadata": {},
   "source": [
    "- Ejercicio 2\n",
    "Crea un código que te permita acceder a:\n",
    "\n",
    "El segundo mes del primer trimestre.\n",
    "Los meses del primer trimestre.\n",
    "Septiembre y octubre.\n"
   ]
  },
  {
   "cell_type": "code",
   "execution_count": 12,
   "id": "83152513",
   "metadata": {},
   "outputs": [
    {
     "data": {
      "text/plain": [
       "'Febrero'"
      ]
     },
     "execution_count": 12,
     "metadata": {},
     "output_type": "execute_result"
    }
   ],
   "source": [
    "SegundoMes_1T = Meses_Trim[0][1]\n",
    "SegundoMes_1T"
   ]
  },
  {
   "cell_type": "code",
   "execution_count": 11,
   "id": "fcdd524f",
   "metadata": {},
   "outputs": [
    {
     "data": {
      "text/plain": [
       "['Enero', 'Febrero', 'Marzo']"
      ]
     },
     "execution_count": 11,
     "metadata": {},
     "output_type": "execute_result"
    }
   ],
   "source": [
    "Meses_1T = Meses_Trim[0]\n",
    "Meses_1T"
   ]
  },
  {
   "cell_type": "code",
   "execution_count": 16,
   "id": "e0ac26f8",
   "metadata": {},
   "outputs": [
    {
     "data": {
      "text/plain": [
       "('Septiembre', 'Octubre')"
      ]
     },
     "execution_count": 16,
     "metadata": {},
     "output_type": "execute_result"
    }
   ],
   "source": [
    "Sept_Octu =  Meses_Trim[2][2] , Meses_Trim[3][0]\n",
    "Sept_Octu"
   ]
  },
  {
   "cell_type": "markdown",
   "id": "04399b34",
   "metadata": {},
   "source": [
    "- Ejercicio 3\n",
    "Crea una lista con números desordenados y responde a las siguientes preguntas:\n",
    "\n",
    "¿Cuántos números hay?\n",
    "Cuántas veces aparece el número 3.\n",
    "¿Cuántas veces aparecen los números 3 y 4?\n",
    "¿Cuál es el mayor número?\n",
    "¿Cuáles son los 3 números más pequeños?\n",
    "¿Cuál es el rango de esa lista?"
   ]
  },
  {
   "cell_type": "code",
   "execution_count": 167,
   "id": "ff97174b",
   "metadata": {},
   "outputs": [
    {
     "name": "stdout",
     "output_type": "stream",
     "text": [
      "[5, 12, 13, 15, 0, 4, 18, 2]\n"
     ]
    },
    {
     "data": {
      "text/plain": [
       "list"
      ]
     },
     "execution_count": 167,
     "metadata": {},
     "output_type": "execute_result"
    }
   ],
   "source": [
    "import random\n",
    "random_numbers = random.sample(range(20), 8)\n",
    "print(random_numbers)\n",
    "type(random_numbers)"
   ]
  },
  {
   "cell_type": "code",
   "execution_count": 168,
   "id": "1b7eeeff",
   "metadata": {},
   "outputs": [
    {
     "data": {
      "text/plain": [
       "8"
      ]
     },
     "execution_count": 168,
     "metadata": {},
     "output_type": "execute_result"
    }
   ],
   "source": [
    "len(random_numbers)"
   ]
  },
  {
   "cell_type": "code",
   "execution_count": 169,
   "id": "a80e43ee",
   "metadata": {},
   "outputs": [
    {
     "data": {
      "text/plain": [
       "0"
      ]
     },
     "execution_count": 169,
     "metadata": {},
     "output_type": "execute_result"
    }
   ],
   "source": [
    "random_numbers.count(3)"
   ]
  },
  {
   "cell_type": "code",
   "execution_count": 173,
   "id": "838e3ee3",
   "metadata": {},
   "outputs": [
    {
     "data": {
      "text/plain": [
       "(0, 1)"
      ]
     },
     "execution_count": 173,
     "metadata": {},
     "output_type": "execute_result"
    }
   ],
   "source": [
    "random_numbers.count(3) , random_numbers.count(4)"
   ]
  },
  {
   "cell_type": "code",
   "execution_count": 164,
   "id": "4b90f575",
   "metadata": {},
   "outputs": [
    {
     "data": {
      "text/plain": [
       "16"
      ]
     },
     "execution_count": 164,
     "metadata": {},
     "output_type": "execute_result"
    }
   ],
   "source": [
    "max(random_numbers)"
   ]
  },
  {
   "cell_type": "code",
   "execution_count": 165,
   "id": "3220b389",
   "metadata": {},
   "outputs": [
    {
     "data": {
      "text/plain": [
       "[1, 3, 4]"
      ]
     },
     "execution_count": 165,
     "metadata": {},
     "output_type": "execute_result"
    }
   ],
   "source": [
    "def MinVal(myList, quantity):\n",
    "    return sorted(list(set(myList)))[:quantity]\n",
    "\n",
    "MinVal(random_numbers,3)"
   ]
  },
  {
   "cell_type": "code",
   "execution_count": 174,
   "id": "1acdd989",
   "metadata": {},
   "outputs": [
    {
     "data": {
      "text/plain": [
       "18"
      ]
     },
     "execution_count": 174,
     "metadata": {},
     "output_type": "execute_result"
    }
   ],
   "source": [
    "max(random_numbers)-min(random_numbers)"
   ]
  },
  {
   "cell_type": "markdown",
   "id": "ddb1b052",
   "metadata": {},
   "source": [
    "- Ejercicio 4\n",
    "Crea un diccionario de la siguiente forma y responde a las preguntas:\n",
    "\n",
    "compra = { \"Pomes\" : {\"Qty\": 5, \"€\": 0.42}, \"Peres\" : {\"Qty\": 3, \"€\": 0.66} }\n",
    "Añade alguna fruta más\n",
    "¿Cuánto han costado las peras en total?\n",
    "¿Cuántas frutas hemos comprado en total?\n",
    "¿Cuál es la fruta más cara?"
   ]
  },
  {
   "cell_type": "code",
   "execution_count": 19,
   "id": "d272f527",
   "metadata": {},
   "outputs": [],
   "source": [
    "compra = { \"Manzanas\" : {\"Qty\": 5, \"€\": 0.42}, \"Peras\" : {\"Qty\": 3, \"€\": 0.66} }"
   ]
  },
  {
   "cell_type": "code",
   "execution_count": 78,
   "id": "5752a8be",
   "metadata": {},
   "outputs": [
    {
     "data": {
      "text/plain": [
       "dict"
      ]
     },
     "execution_count": 78,
     "metadata": {},
     "output_type": "execute_result"
    }
   ],
   "source": [
    "type(compra)"
   ]
  },
  {
   "cell_type": "code",
   "execution_count": 20,
   "id": "66d7b4a7",
   "metadata": {},
   "outputs": [],
   "source": [
    "compra[ \"Naranjas\" ] = {\"Qty\": 6, \"€\": 0.50}"
   ]
  },
  {
   "cell_type": "code",
   "execution_count": 21,
   "id": "3516d198",
   "metadata": {},
   "outputs": [
    {
     "data": {
      "text/plain": [
       "{'Manzanas': {'Qty': 5, '€': 0.42},\n",
       " 'Peras': {'Qty': 3, '€': 0.66},\n",
       " 'Naranjas': {'Qty': 6, '€': 0.5}}"
      ]
     },
     "execution_count": 21,
     "metadata": {},
     "output_type": "execute_result"
    }
   ],
   "source": [
    "compra"
   ]
  },
  {
   "cell_type": "code",
   "execution_count": 27,
   "id": "bfc5714d",
   "metadata": {},
   "outputs": [
    {
     "data": {
      "text/plain": [
       "1.98"
      ]
     },
     "execution_count": 27,
     "metadata": {},
     "output_type": "execute_result"
    }
   ],
   "source": [
    "compra[\"Peras\"][\"Qty\"]* compra[\"Peras\"][\"€\"]"
   ]
  },
  {
   "cell_type": "code",
   "execution_count": 28,
   "id": "2498b19b",
   "metadata": {},
   "outputs": [
    {
     "data": {
      "text/plain": [
       "14"
      ]
     },
     "execution_count": 28,
     "metadata": {},
     "output_type": "execute_result"
    }
   ],
   "source": [
    "compra[\"Peras\"][\"Qty\"] +compra[\"Manzanas\"][\"Qty\"] + compra[\"Naranjas\"][\"Qty\"]"
   ]
  },
  {
   "cell_type": "code",
   "execution_count": 157,
   "id": "b9dba54e",
   "metadata": {},
   "outputs": [
    {
     "name": "stdout",
     "output_type": "stream",
     "text": [
      "La fruta mas cara es Peras\n"
     ]
    }
   ],
   "source": [
    "print(\"La fruta mas cara es\",max(compra.keys(), key = lambda x:compra[x]['€']))"
   ]
  }
 ],
 "metadata": {
  "kernelspec": {
   "display_name": "Python 3",
   "language": "python",
   "name": "python3"
  },
  "language_info": {
   "codemirror_mode": {
    "name": "ipython",
    "version": 3
   },
   "file_extension": ".py",
   "mimetype": "text/x-python",
   "name": "python",
   "nbconvert_exporter": "python",
   "pygments_lexer": "ipython3",
   "version": "3.8.8"
  }
 },
 "nbformat": 4,
 "nbformat_minor": 5
}
